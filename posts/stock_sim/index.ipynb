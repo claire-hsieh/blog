{
  "cells": [
    {
      "cell_type": "raw",
      "metadata": {},
      "source": [
        "---\n",
        "title: Stock Simulation\n",
        "date: '2024-08-17'\n",
        "image: ''\n",
        "categories:\n",
        "  - simulation\n",
        "toc: true\n",
        "comments:\n",
        "  utterances:\n",
        "    repo: claire-hsieh/blog\n",
        "---"
      ],
      "id": "01b502e5"
    },
    {
      "cell_type": "markdown",
      "metadata": {},
      "source": [
        "<!-- 12A0366C|C:\\Users\\bunan.DELL-INSPIRON14\\blog\\posts\\stock_sim\\index.ipynb|:./sim.ipynb#stock-sim |  | echo:false,warning:false,asis:true,eval:false -->"
      ],
      "id": "ed1f148a"
    }
  ],
  "metadata": {
    "kernelspec": {
      "name": "conda-env-sim-py",
      "language": "python",
      "display_name": "sim"
    }
  },
  "nbformat": 4,
  "nbformat_minor": 5
}