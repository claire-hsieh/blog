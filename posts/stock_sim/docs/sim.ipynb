{
 "cells": [
  {
   "cell_type": "code",
   "execution_count": 1,
   "metadata": {},
   "outputs": [
    {
     "data": {
      "text/html": [
       "    <style>\n",
       "        .bk-notebook-logo {\n",
       "            display: block;\n",
       "            width: 20px;\n",
       "            height: 20px;\n",
       "            background-image: url(data:image/png;base64,iVBORw0KGgoAAAANSUhEUgAAABQAAAAUCAYAAACNiR0NAAAABHNCSVQICAgIfAhkiAAAAAlwSFlzAAALEgAACxIB0t1+/AAAABx0RVh0U29mdHdhcmUAQWRvYmUgRmlyZXdvcmtzIENTNui8sowAAAOkSURBVDiNjZRtaJVlGMd/1/08zzln5zjP1LWcU9N0NkN8m2CYjpgQYQXqSs0I84OLIC0hkEKoPtiH3gmKoiJDU7QpLgoLjLIQCpEsNJ1vqUOdO7ppbuec5+V+rj4ctwzd8IIbbi6u+8f1539dt3A78eXC7QizUF7gyV1fD1Yqg4JWz84yffhm0qkFqBogB9rM8tZdtwVsPUhWhGcFJngGeWrPzHm5oaMmkfEg1usvLFyc8jLRqDOMru7AyC8saQr7GG7f5fvDeH7Ej8CM66nIF+8yngt6HWaKh7k49Soy9nXurCi1o3qUbS3zWfrYeQDTB/Qj6kX6Ybhw4B+bOYoLKCC9H3Nu/leUTZ1JdRWkkn2ldcCamzrcf47KKXdAJllSlxAOkRgyHsGC/zRday5Qld9DyoM4/q/rUoy/CXh3jzOu3bHUVZeU+DEn8FInkPBFlu3+nW3Nw0mk6vCDiWg8CeJaxEwuHS3+z5RgY+YBR6V1Z1nxSOfoaPa4LASWxxdNp+VWTk7+4vzaou8v8PN+xo+KY2xsw6une2frhw05CTYOmQvsEhjhWjn0bmXPjpE1+kplmmkP3suftwTubK9Vq22qKmrBhpY4jvd5afdRA3wGjFAgcnTK2s4hY0/GPNIb0nErGMCRxWOOX64Z8RAC4oCXdklmEvcL8o0BfkNK4lUg9HTl+oPlQxdNo3Mg4Nv175e/1LDGzZen30MEjRUtmXSfiTVu1kK8W4txyV6BMKlbgk3lMwYCiusNy9fVfvvwMxv8Ynl6vxoByANLTWplvuj/nF9m2+PDtt1eiHPBr1oIfhCChQMBw6Aw0UulqTKZdfVvfG7VcfIqLG9bcldL/+pdWTLxLUy8Qq38heUIjh4XlzZxzQm19lLFlr8vdQ97rjZVOLf8nclzckbcD4wxXMidpX30sFd37Fv/GtwwhzhxGVAprjbg0gCAEeIgwCZyTV2Z1REEW8O4py0wsjeloKoMr6iCY6dP92H6Vw/oTyICIthibxjm/DfN9lVz8IqtqKYLUXfoKVMVQVVJOElGjrnnUt9T9wbgp8AyYKaGlqingHZU/uG2NTZSVqwHQTWkx9hxjkpWDaCg6Ckj5qebgBVbT3V3NNXMSiWSDdGV3hrtzla7J+duwPOToIg42ChPQOQjspnSlp1V+Gjdged7+8UN5CRAV7a5EdFNwCjEaBR27b3W890TE7g24NAP/mMDXRWrGoFPQI9ls/MWO2dWFAar/xcOIImbbpA3zgAAAABJRU5ErkJggg==);\n",
       "        }\n",
       "    </style>\n",
       "    <div>\n",
       "        <a href=\"https://bokeh.org\" target=\"_blank\" class=\"bk-notebook-logo\"></a>\n",
       "        <span id=\"b0219442-ef2e-4c56-9204-2f07f04e393d\">Loading BokehJS ...</span>\n",
       "    </div>\n"
      ]
     },
     "metadata": {},
     "output_type": "display_data"
    },
    {
     "data": {
      "application/javascript": "'use strict';\n(function(root) {\n  function now() {\n    return new Date();\n  }\n\n  const force = true;\n\n  if (typeof root._bokeh_onload_callbacks === \"undefined\" || force === true) {\n    root._bokeh_onload_callbacks = [];\n    root._bokeh_is_loading = undefined;\n  }\n\nconst JS_MIME_TYPE = 'application/javascript';\n  const HTML_MIME_TYPE = 'text/html';\n  const EXEC_MIME_TYPE = 'application/vnd.bokehjs_exec.v0+json';\n  const CLASS_NAME = 'output_bokeh rendered_html';\n\n  /**\n   * Render data to the DOM node\n   */\n  function render(props, node) {\n    const script = document.createElement(\"script\");\n    node.appendChild(script);\n  }\n\n  /**\n   * Handle when an output is cleared or removed\n   */\n  function handleClearOutput(event, handle) {\n    function drop(id) {\n      const view = Bokeh.index.get_by_id(id)\n      if (view != null) {\n        view.model.document.clear()\n        Bokeh.index.delete(view)\n      }\n    }\n\n    const cell = handle.cell;\n\n    const id = cell.output_area._bokeh_element_id;\n    const server_id = cell.output_area._bokeh_server_id;\n\n    // Clean up Bokeh references\n    if (id != null) {\n      drop(id)\n    }\n\n    if (server_id !== undefined) {\n      // Clean up Bokeh references\n      const cmd_clean = \"from bokeh.io.state import curstate; print(curstate().uuid_to_server['\" + server_id + \"'].get_sessions()[0].document.roots[0]._id)\";\n      cell.notebook.kernel.execute(cmd_clean, {\n        iopub: {\n          output: function(msg) {\n            const id = msg.content.text.trim()\n            drop(id)\n          }\n        }\n      });\n      // Destroy server and session\n      const cmd_destroy = \"import bokeh.io.notebook as ion; ion.destroy_server('\" + server_id + \"')\";\n      cell.notebook.kernel.execute(cmd_destroy);\n    }\n  }\n\n  /**\n   * Handle when a new output is added\n   */\n  function handleAddOutput(event, handle) {\n    const output_area = handle.output_area;\n    const output = handle.output;\n\n    // limit handleAddOutput to display_data with EXEC_MIME_TYPE content only\n    if ((output.output_type != \"display_data\") || (!Object.prototype.hasOwnProperty.call(output.data, EXEC_MIME_TYPE))) {\n      return\n    }\n\n    const toinsert = output_area.element.find(\".\" + CLASS_NAME.split(' ')[0]);\n\n    if (output.metadata[EXEC_MIME_TYPE][\"id\"] !== undefined) {\n      toinsert[toinsert.length - 1].firstChild.textContent = output.data[JS_MIME_TYPE];\n      // store reference to embed id on output_area\n      output_area._bokeh_element_id = output.metadata[EXEC_MIME_TYPE][\"id\"];\n    }\n    if (output.metadata[EXEC_MIME_TYPE][\"server_id\"] !== undefined) {\n      const bk_div = document.createElement(\"div\");\n      bk_div.innerHTML = output.data[HTML_MIME_TYPE];\n      const script_attrs = bk_div.children[0].attributes;\n      for (let i = 0; i < script_attrs.length; i++) {\n        toinsert[toinsert.length - 1].firstChild.setAttribute(script_attrs[i].name, script_attrs[i].value);\n        toinsert[toinsert.length - 1].firstChild.textContent = bk_div.children[0].textContent\n      }\n      // store reference to server id on output_area\n      output_area._bokeh_server_id = output.metadata[EXEC_MIME_TYPE][\"server_id\"];\n    }\n  }\n\n  function register_renderer(events, OutputArea) {\n\n    function append_mime(data, metadata, element) {\n      // create a DOM node to render to\n      const toinsert = this.create_output_subarea(\n        metadata,\n        CLASS_NAME,\n        EXEC_MIME_TYPE\n      );\n      this.keyboard_manager.register_events(toinsert);\n      // Render to node\n      const props = {data: data, metadata: metadata[EXEC_MIME_TYPE]};\n      render(props, toinsert[toinsert.length - 1]);\n      element.append(toinsert);\n      return toinsert\n    }\n\n    /* Handle when an output is cleared or removed */\n    events.on('clear_output.CodeCell', handleClearOutput);\n    events.on('delete.Cell', handleClearOutput);\n\n    /* Handle when a new output is added */\n    events.on('output_added.OutputArea', handleAddOutput);\n\n    /**\n     * Register the mime type and append_mime function with output_area\n     */\n    OutputArea.prototype.register_mime_type(EXEC_MIME_TYPE, append_mime, {\n      /* Is output safe? */\n      safe: true,\n      /* Index of renderer in `output_area.display_order` */\n      index: 0\n    });\n  }\n\n  // register the mime type if in Jupyter Notebook environment and previously unregistered\n  if (root.Jupyter !== undefined) {\n    const events = require('base/js/events');\n    const OutputArea = require('notebook/js/outputarea').OutputArea;\n\n    if (OutputArea.prototype.mime_types().indexOf(EXEC_MIME_TYPE) == -1) {\n      register_renderer(events, OutputArea);\n    }\n  }\n  if (typeof (root._bokeh_timeout) === \"undefined\" || force === true) {\n    root._bokeh_timeout = Date.now() + 5000;\n    root._bokeh_failed_load = false;\n  }\n\n  const NB_LOAD_WARNING = {'data': {'text/html':\n     \"<div style='background-color: #fdd'>\\n\"+\n     \"<p>\\n\"+\n     \"BokehJS does not appear to have successfully loaded. If loading BokehJS from CDN, this \\n\"+\n     \"may be due to a slow or bad network connection. Possible fixes:\\n\"+\n     \"</p>\\n\"+\n     \"<ul>\\n\"+\n     \"<li>re-rerun `output_notebook()` to attempt to load from CDN again, or</li>\\n\"+\n     \"<li>use INLINE resources instead, as so:</li>\\n\"+\n     \"</ul>\\n\"+\n     \"<code>\\n\"+\n     \"from bokeh.resources import INLINE\\n\"+\n     \"output_notebook(resources=INLINE)\\n\"+\n     \"</code>\\n\"+\n     \"</div>\"}};\n\n  function display_loaded(error = null) {\n    const el = document.getElementById(\"b0219442-ef2e-4c56-9204-2f07f04e393d\");\n    if (el != null) {\n      const html = (() => {\n        if (typeof root.Bokeh === \"undefined\") {\n          if (error == null) {\n            return \"BokehJS is loading ...\";\n          } else {\n            return \"BokehJS failed to load.\";\n          }\n        } else {\n          const prefix = `BokehJS ${root.Bokeh.version}`;\n          if (error == null) {\n            return `${prefix} successfully loaded.`;\n          } else {\n            return `${prefix} <b>encountered errors</b> while loading and may not function as expected.`;\n          }\n        }\n      })();\n      el.innerHTML = html;\n\n      if (error != null) {\n        const wrapper = document.createElement(\"div\");\n        wrapper.style.overflow = \"auto\";\n        wrapper.style.height = \"5em\";\n        wrapper.style.resize = \"vertical\";\n        const content = document.createElement(\"div\");\n        content.style.fontFamily = \"monospace\";\n        content.style.whiteSpace = \"pre-wrap\";\n        content.style.backgroundColor = \"rgb(255, 221, 221)\";\n        content.textContent = error.stack ?? error.toString();\n        wrapper.append(content);\n        el.append(wrapper);\n      }\n    } else if (Date.now() < root._bokeh_timeout) {\n      setTimeout(() => display_loaded(error), 100);\n    }\n  }\n\n  function run_callbacks() {\n    try {\n      root._bokeh_onload_callbacks.forEach(function(callback) {\n        if (callback != null)\n          callback();\n      });\n    } finally {\n      delete root._bokeh_onload_callbacks\n    }\n    console.debug(\"Bokeh: all callbacks have finished\");\n  }\n\n  function load_libs(css_urls, js_urls, callback) {\n    if (css_urls == null) css_urls = [];\n    if (js_urls == null) js_urls = [];\n\n    root._bokeh_onload_callbacks.push(callback);\n    if (root._bokeh_is_loading > 0) {\n      console.debug(\"Bokeh: BokehJS is being loaded, scheduling callback at\", now());\n      return null;\n    }\n    if (js_urls == null || js_urls.length === 0) {\n      run_callbacks();\n      return null;\n    }\n    console.debug(\"Bokeh: BokehJS not loaded, scheduling load and callback at\", now());\n    root._bokeh_is_loading = css_urls.length + js_urls.length;\n\n    function on_load() {\n      root._bokeh_is_loading--;\n      if (root._bokeh_is_loading === 0) {\n        console.debug(\"Bokeh: all BokehJS libraries/stylesheets loaded\");\n        run_callbacks()\n      }\n    }\n\n    function on_error(url) {\n      console.error(\"failed to load \" + url);\n    }\n\n    for (let i = 0; i < css_urls.length; i++) {\n      const url = css_urls[i];\n      const element = document.createElement(\"link\");\n      element.onload = on_load;\n      element.onerror = on_error.bind(null, url);\n      element.rel = \"stylesheet\";\n      element.type = \"text/css\";\n      element.href = url;\n      console.debug(\"Bokeh: injecting link tag for BokehJS stylesheet: \", url);\n      document.body.appendChild(element);\n    }\n\n    for (let i = 0; i < js_urls.length; i++) {\n      const url = js_urls[i];\n      const element = document.createElement('script');\n      element.onload = on_load;\n      element.onerror = on_error.bind(null, url);\n      element.async = false;\n      element.src = url;\n      console.debug(\"Bokeh: injecting script tag for BokehJS library: \", url);\n      document.head.appendChild(element);\n    }\n  };\n\n  function inject_raw_css(css) {\n    const element = document.createElement(\"style\");\n    element.appendChild(document.createTextNode(css));\n    document.body.appendChild(element);\n  }\n\n  const js_urls = [\"https://cdn.bokeh.org/bokeh/release/bokeh-3.4.1.min.js\", \"https://cdn.bokeh.org/bokeh/release/bokeh-gl-3.4.1.min.js\", \"https://cdn.bokeh.org/bokeh/release/bokeh-widgets-3.4.1.min.js\", \"https://cdn.bokeh.org/bokeh/release/bokeh-tables-3.4.1.min.js\", \"https://cdn.bokeh.org/bokeh/release/bokeh-mathjax-3.4.1.min.js\"];\n  const css_urls = [];\n\n  const inline_js = [    function(Bokeh) {\n      Bokeh.set_log_level(\"info\");\n    },\nfunction(Bokeh) {\n    }\n  ];\n\n  function run_inline_js() {\n    if (root.Bokeh !== undefined || force === true) {\n      try {\n            for (let i = 0; i < inline_js.length; i++) {\n      inline_js[i].call(root, root.Bokeh);\n    }\n\n      } catch (error) {display_loaded(error);throw error;\n      }if (force === true) {\n        display_loaded();\n      }} else if (Date.now() < root._bokeh_timeout) {\n      setTimeout(run_inline_js, 100);\n    } else if (!root._bokeh_failed_load) {\n      console.log(\"Bokeh: BokehJS failed to load within specified timeout.\");\n      root._bokeh_failed_load = true;\n    } else if (force !== true) {\n      const cell = $(document.getElementById(\"b0219442-ef2e-4c56-9204-2f07f04e393d\")).parents('.cell').data().cell;\n      cell.output_area.append_execute_result(NB_LOAD_WARNING)\n    }\n  }\n\n  if (root._bokeh_is_loading === 0) {\n    console.debug(\"Bokeh: BokehJS loaded, going straight to plotting\");\n    run_inline_js();\n  } else {\n    load_libs(css_urls, js_urls, function() {\n      console.debug(\"Bokeh: BokehJS plotting callback run at\", now());\n      run_inline_js();\n    });\n  }\n}(window));",
      "application/vnd.bokehjs_load.v0+json": ""
     },
     "metadata": {},
     "output_type": "display_data"
    },
    {
     "data": {
      "text/html": [
       "\n",
       "  <div id=\"a63dacc1-fd2f-4bc6-80f0-10ac5235b473\" data-root-id=\"p1052\" style=\"display: contents;\"></div>\n"
      ]
     },
     "metadata": {},
     "output_type": "display_data"
    },
    {
     "data": {
      "application/javascript": "(function(root) {\n  function embed_document(root) {\n  const docs_json = {\"f2a7671f-17d3-4178-b523-5cf8409681a2\":{\"version\":\"3.4.1\",\"title\":\"Bokeh Application\",\"roots\":[{\"type\":\"object\",\"name\":\"Column\",\"id\":\"p1052\",\"attributes\":{\"children\":[{\"type\":\"object\",\"name\":\"Figure\",\"id\":\"p1004\",\"attributes\":{\"x_range\":{\"type\":\"object\",\"name\":\"DataRange1d\",\"id\":\"p1005\"},\"y_range\":{\"type\":\"object\",\"name\":\"DataRange1d\",\"id\":\"p1006\"},\"x_scale\":{\"type\":\"object\",\"name\":\"LinearScale\",\"id\":\"p1014\"},\"y_scale\":{\"type\":\"object\",\"name\":\"LinearScale\",\"id\":\"p1015\"},\"title\":{\"type\":\"object\",\"name\":\"Title\",\"id\":\"p1007\",\"attributes\":{\"text\":\"Investment Growth Over Time\"}},\"renderers\":[{\"type\":\"object\",\"name\":\"GlyphRenderer\",\"id\":\"p1043\",\"attributes\":{\"data_source\":{\"type\":\"object\",\"name\":\"ColumnDataSource\",\"id\":\"p1001\",\"attributes\":{\"selected\":{\"type\":\"object\",\"name\":\"Selection\",\"id\":\"p1002\",\"attributes\":{\"indices\":[],\"line_indices\":[]}},\"selection_policy\":{\"type\":\"object\",\"name\":\"UnionRenderers\",\"id\":\"p1003\"},\"data\":{\"type\":\"map\",\"entries\":[[\"months\",[0,1,2,3,4,5,6,7,8,9,10,11,12,13,14,15,16,17,18,19,20,21,22,23,24,25,26,27,28,29,30,31,32,33,34,35,36,37,38,39,40,41,42,43,44,45,46,47,48,49,50,51,52,53,54,55,56,57,58,59,60,61,62,63,64,65,66,67,68,69,70,71,72,73,74,75,76,77,78,79,80,81,82,83,84,85,86,87,88,89,90,91,92,93,94,95,96,97,98,99,100,101,102,103,104,105,106,107,108,109,110,111,112,113,114,115,116,117,118,119,120]],[\"amounts\",[2000,2229.1487195119566,2471.600856039462,2729.494542463103,2971.68603500139,3230.0799764303647,3470.3223088916106,3733.7113988767687,4003.026222423345,4286.700080157653,4591.415875038224,4856.081957854396,5122.213890396442,5372.714190567703,5661.70502504189,5949.9340509542735,6282.700523765507,6593.817487425957,6885.084977922139,7197.779959572207,7459.17093266169,7804.656679958999,8180.424702522279,8616.150010263807,8965.326559752106,9300.425813312047,9668.613919550753,10033.918739493836,10446.56339193219,10886.922241120694,11248.03288393379,11601.770409827013,12024.343200373514,12336.566310677483,12784.419344086604,13275.870478161423,13696.074658619802,14216.251302443789,14595.956453157347,15110.508767758305,15653.527921959949,16137.65926300957,16618.02164485218,17072.198872311168,17489.683737987532,17927.532364747614,18516.268541433714,18965.99396844649,19489.78174880227,20006.643371543567,20498.60014818969,21033.30209885496,21566.13514516224,22080.513559739,22603.67260241419,23157.16360040031,23718.237672689695,24280.857029404786,24944.740163538743,25510.873222755086,26126.210691979806,26833.80902570417,27535.405527011768,28209.416629162613,28819.270531393628,29589.552812898255,30358.937412756706,31232.942707828024,31969.159097552758,32732.6904406943,33420.31639991595,34119.25049807869,34601.02158586585,35427.52555974497,36239.433513290795,36988.86632464691,37874.57913663717,38708.77778156771,39507.635144627864,40267.45302612907,41336.540924386885,42199.06971771065,42951.61500414136,43566.34281221339,44381.41652146408,45283.574784604985,46135.616699351755,47266.486680217815,48095.64376331954,49130.47154052899,50146.636514804864,51157.61723901389,52348.17941866633,53138.50287161906,53941.49598206996,55213.878791549985,56008.88954642131,57062.67321664927,58259.64510938836,59289.70320929652,60485.51465946189,62098.02554021651,64081.76817780264,65201.548010283026,66692.18451206728,68034.13195392702,68927.82169508998,70427.79633626538,71893.52891041293,73098.55964094214,74306.66028034592,75754.24998976942,77133.70685173132,78990.11275704742,80414.41210499173,81890.97718471108,83165.86230120229,84785.5309705015,86600.57874354532,88032.01846741294,90030.28381485856]]]}}},\"view\":{\"type\":\"object\",\"name\":\"CDSView\",\"id\":\"p1044\",\"attributes\":{\"filter\":{\"type\":\"object\",\"name\":\"AllIndices\",\"id\":\"p1045\"}}},\"glyph\":{\"type\":\"object\",\"name\":\"Line\",\"id\":\"p1040\",\"attributes\":{\"x\":{\"type\":\"field\",\"field\":\"months\"},\"y\":{\"type\":\"field\",\"field\":\"amounts\"},\"line_color\":\"#1f77b4\",\"line_width\":2}},\"nonselection_glyph\":{\"type\":\"object\",\"name\":\"Line\",\"id\":\"p1041\",\"attributes\":{\"x\":{\"type\":\"field\",\"field\":\"months\"},\"y\":{\"type\":\"field\",\"field\":\"amounts\"},\"line_color\":\"#1f77b4\",\"line_alpha\":0.1,\"line_width\":2}},\"muted_glyph\":{\"type\":\"object\",\"name\":\"Line\",\"id\":\"p1042\",\"attributes\":{\"x\":{\"type\":\"field\",\"field\":\"months\"},\"y\":{\"type\":\"field\",\"field\":\"amounts\"},\"line_color\":\"#1f77b4\",\"line_alpha\":0.2,\"line_width\":2}}}}],\"toolbar\":{\"type\":\"object\",\"name\":\"Toolbar\",\"id\":\"p1013\",\"attributes\":{\"tools\":[{\"type\":\"object\",\"name\":\"PanTool\",\"id\":\"p1026\"},{\"type\":\"object\",\"name\":\"WheelZoomTool\",\"id\":\"p1027\",\"attributes\":{\"renderers\":\"auto\"}},{\"type\":\"object\",\"name\":\"BoxZoomTool\",\"id\":\"p1028\",\"attributes\":{\"overlay\":{\"type\":\"object\",\"name\":\"BoxAnnotation\",\"id\":\"p1029\",\"attributes\":{\"syncable\":false,\"level\":\"overlay\",\"visible\":false,\"left\":{\"type\":\"number\",\"value\":\"nan\"},\"right\":{\"type\":\"number\",\"value\":\"nan\"},\"top\":{\"type\":\"number\",\"value\":\"nan\"},\"bottom\":{\"type\":\"number\",\"value\":\"nan\"},\"left_units\":\"canvas\",\"right_units\":\"canvas\",\"top_units\":\"canvas\",\"bottom_units\":\"canvas\",\"line_color\":\"black\",\"line_alpha\":1.0,\"line_width\":2,\"line_dash\":[4,4],\"fill_color\":\"lightgrey\",\"fill_alpha\":0.5}}}},{\"type\":\"object\",\"name\":\"SaveTool\",\"id\":\"p1034\"},{\"type\":\"object\",\"name\":\"ResetTool\",\"id\":\"p1035\"},{\"type\":\"object\",\"name\":\"HelpTool\",\"id\":\"p1036\"}]}},\"left\":[{\"type\":\"object\",\"name\":\"LinearAxis\",\"id\":\"p1021\",\"attributes\":{\"ticker\":{\"type\":\"object\",\"name\":\"BasicTicker\",\"id\":\"p1022\",\"attributes\":{\"mantissas\":[1,2,5]}},\"formatter\":{\"type\":\"object\",\"name\":\"BasicTickFormatter\",\"id\":\"p1023\"},\"axis_label\":\"Amount ($)\",\"major_label_policy\":{\"type\":\"object\",\"name\":\"AllLabels\",\"id\":\"p1024\"}}}],\"below\":[{\"type\":\"object\",\"name\":\"LinearAxis\",\"id\":\"p1016\",\"attributes\":{\"ticker\":{\"type\":\"object\",\"name\":\"BasicTicker\",\"id\":\"p1017\",\"attributes\":{\"mantissas\":[1,2,5]}},\"formatter\":{\"type\":\"object\",\"name\":\"BasicTickFormatter\",\"id\":\"p1018\"},\"axis_label\":\"Months\",\"major_label_policy\":{\"type\":\"object\",\"name\":\"AllLabels\",\"id\":\"p1019\"}}}],\"center\":[{\"type\":\"object\",\"name\":\"Grid\",\"id\":\"p1020\",\"attributes\":{\"axis\":{\"id\":\"p1016\"}}},{\"type\":\"object\",\"name\":\"Grid\",\"id\":\"p1025\",\"attributes\":{\"dimension\":1,\"axis\":{\"id\":\"p1021\"}}}]}},{\"type\":\"object\",\"name\":\"Slider\",\"id\":\"p1046\",\"attributes\":{\"js_property_callbacks\":{\"type\":\"map\",\"entries\":[[\"change:value\",[{\"type\":\"object\",\"name\":\"CustomJS\",\"id\":\"p1051\",\"attributes\":{\"args\":{\"type\":\"map\",\"entries\":[[\"source\",{\"id\":\"p1001\"}],[\"starting_amount_slider\",{\"id\":\"p1046\"}],[\"monthly_investment_slider\",{\"type\":\"object\",\"name\":\"Slider\",\"id\":\"p1047\",\"attributes\":{\"js_property_callbacks\":{\"type\":\"map\",\"entries\":[[\"change:value\",[{\"id\":\"p1051\"}]]]},\"title\":\"Monthly Investment ($)\",\"start\":0,\"end\":5000,\"value\":200,\"step\":50}}],[\"interest_rate_mean_slider\",{\"type\":\"object\",\"name\":\"Slider\",\"id\":\"p1049\",\"attributes\":{\"js_property_callbacks\":{\"type\":\"map\",\"entries\":[[\"change:value\",[{\"id\":\"p1051\"}]]]},\"title\":\"Interest Rate Mean\",\"start\":-1,\"end\":1,\"value\":0.2,\"step\":0.01}}],[\"interest_rate_std_dev_slider\",{\"type\":\"object\",\"name\":\"Slider\",\"id\":\"p1050\",\"attributes\":{\"js_property_callbacks\":{\"type\":\"map\",\"entries\":[[\"change:value\",[{\"id\":\"p1051\"}]]]},\"title\":\"Interest Rate Std Dev\",\"start\":0,\"end\":1,\"value\":0.05,\"step\":0.01}}],[\"years_slider\",{\"type\":\"object\",\"name\":\"Slider\",\"id\":\"p1048\",\"attributes\":{\"js_property_callbacks\":{\"type\":\"map\",\"entries\":[[\"change:value\",[{\"id\":\"p1051\"}]]]},\"title\":\"Years\",\"start\":1,\"end\":50,\"value\":10}}]]},\"code\":\"\\n    function gaussianRandom(mean, stdDev) {\\n        let u1 = Math.random();\\n        let u2 = Math.random();\\n        let z0 = Math.sqrt(-2.0 * Math.log(u1)) * Math.cos(2.0 * Math.PI * u2);\\n        return z0 * stdDev + mean;\\n    }\\n\\n    function calculate_accrued_amount(starting_amount, monthly_investment, interest_rate_mean, interest_rate_std_dev, years) {\\n        let months = years * 12;\\n        let amount = starting_amount;\\n        let amounts = [amount];\\n        \\n        for (let month = 1; month <= months; month++) {\\n            amount += monthly_investment;\\n            let interest_rate = gaussianRandom(interest_rate_mean, interest_rate_std_dev);\\n            amount *= (1 + interest_rate / 12);\\n            amounts.push(amount);\\n        }\\n        return amounts;\\n    }\\n\\n    let starting_amount = starting_amount_slider.value;\\n    let monthly_investment = monthly_investment_slider.value;\\n    let interest_rate_mean = interest_rate_mean_slider.value;\\n    let interest_rate_std_dev = interest_rate_std_dev_slider.value;\\n    let years = years_slider.value;\\n\\n    let amounts = calculate_accrued_amount(starting_amount, monthly_investment, interest_rate_mean, interest_rate_std_dev, years);\\n    let months = Array.from({length: amounts.length}, (_, i) => i);\\n\\n    source.data = {months: months, amounts: amounts};\\n    source.change.emit();\\n\"}}]]]},\"title\":\"Starting Amount ($)\",\"start\":0,\"end\":10000,\"value\":2000,\"step\":100}},{\"id\":\"p1047\"},{\"id\":\"p1048\"},{\"id\":\"p1049\"},{\"id\":\"p1050\"}]}}]}};\n  const render_items = [{\"docid\":\"f2a7671f-17d3-4178-b523-5cf8409681a2\",\"roots\":{\"p1052\":\"a63dacc1-fd2f-4bc6-80f0-10ac5235b473\"},\"root_ids\":[\"p1052\"]}];\n  void root.Bokeh.embed.embed_items_notebook(docs_json, render_items);\n  }\n  if (root.Bokeh !== undefined) {\n    embed_document(root);\n  } else {\n    let attempts = 0;\n    const timer = setInterval(function(root) {\n      if (root.Bokeh !== undefined) {\n        clearInterval(timer);\n        embed_document(root);\n      } else {\n        attempts++;\n        if (attempts > 100) {\n          clearInterval(timer);\n          console.log(\"Bokeh: ERROR: Unable to run BokehJS code because BokehJS library is missing\");\n        }\n      }\n    }, 10, root)\n  }\n})(window);",
      "application/vnd.bokehjs_exec.v0+json": ""
     },
     "metadata": {
      "application/vnd.bokehjs_exec.v0+json": {
       "id": "p1052"
      }
     },
     "output_type": "display_data"
    }
   ],
   "source": [
    "#| label: stock-sim\n",
    "#| fig-cap: >\n",
    "#|  Stock simulation where growth rate is normally distributed.\n",
    "\n",
    "from bokeh.io import output_notebook, show\n",
    "from bokeh.layouts import column, row\n",
    "from bokeh.models import ColumnDataSource, Slider\n",
    "from bokeh.plotting import figure\n",
    "from bokeh.models.callbacks import CustomJS\n",
    "import numpy as np\n",
    "\n",
    "output_notebook()\n",
    "\n",
    "# Function to calculate accrued amount\n",
    "def calculate_accrued_amount(starting_amount, monthly_investment, interest_rate_mean, interest_rate_std_dev, years):\n",
    "    months = years * 12\n",
    "    amount = starting_amount\n",
    "    amounts = [amount]\n",
    "    for month in range(1, months + 1):\n",
    "        amount += monthly_investment\n",
    "        interest_rate = np.random.normal(interest_rate_mean, interest_rate_std_dev)\n",
    "        amount *= (1 + interest_rate / 12)\n",
    "        amounts.append(amount)\n",
    "    return amounts\n",
    "\n",
    "# Initial parameters\n",
    "starting_amount = 2000\n",
    "monthly_investment = 200\n",
    "years = 10\n",
    "interest_rate_mean = 0.2\n",
    "interest_rate_std_dev = 0.05\n",
    "\n",
    "# Calculate initial data\n",
    "amounts = calculate_accrued_amount(starting_amount, monthly_investment, interest_rate_mean, interest_rate_std_dev, years)\n",
    "months = list(range(len(amounts)))\n",
    "\n",
    "# Create ColumnDataSource\n",
    "source = ColumnDataSource(data=dict(months=months, amounts=amounts))\n",
    "\n",
    "# Create plot\n",
    "plot = figure(title=\"Investment Growth Over Time\", x_axis_label='Months', y_axis_label='Amount ($)')\n",
    "plot.line('months', 'amounts', source=source, line_width=2)\n",
    "\n",
    "# Create widgets\n",
    "starting_amount_slider = Slider(start=0, end=10000, value=starting_amount, step=100, title=\"Starting Amount ($)\")\n",
    "monthly_investment_slider = Slider(start=0, end=5000, value=monthly_investment, step=50, title=\"Monthly Investment ($)\")\n",
    "years_slider = Slider(start=1, end=50, value=years, step=1, title=\"Years\")\n",
    "interest_rate_mean_slider = Slider(start=-1, end=1, value=interest_rate_mean, step=0.01, title=\"Interest Rate Mean\")\n",
    "interest_rate_std_dev_slider = Slider(start=0, end=1, value=interest_rate_std_dev, step=0.01, title=\"Interest Rate Std Dev\")\n",
    "\n",
    "# Callback function\n",
    "callback = CustomJS(args=dict(source=source, \n",
    "                              starting_amount_slider=starting_amount_slider, \n",
    "                              monthly_investment_slider=monthly_investment_slider,\n",
    "                              interest_rate_mean_slider=interest_rate_mean_slider,\n",
    "                              interest_rate_std_dev_slider=interest_rate_std_dev_slider,\n",
    "                              years_slider=years_slider), \n",
    "                    code=\"\"\"\n",
    "    function gaussianRandom(mean, stdDev) {\n",
    "        let u1 = Math.random();\n",
    "        let u2 = Math.random();\n",
    "        let z0 = Math.sqrt(-2.0 * Math.log(u1)) * Math.cos(2.0 * Math.PI * u2);\n",
    "        return z0 * stdDev + mean;\n",
    "    }\n",
    "\n",
    "    function calculate_accrued_amount(starting_amount, monthly_investment, interest_rate_mean, interest_rate_std_dev, years) {\n",
    "        let months = years * 12;\n",
    "        let amount = starting_amount;\n",
    "        let amounts = [amount];\n",
    "        \n",
    "        for (let month = 1; month <= months; month++) {\n",
    "            amount += monthly_investment;\n",
    "            let interest_rate = gaussianRandom(interest_rate_mean, interest_rate_std_dev);\n",
    "            amount *= (1 + interest_rate / 12);\n",
    "            amounts.push(amount);\n",
    "        }\n",
    "        return amounts;\n",
    "    }\n",
    "\n",
    "    let starting_amount = starting_amount_slider.value;\n",
    "    let monthly_investment = monthly_investment_slider.value;\n",
    "    let interest_rate_mean = interest_rate_mean_slider.value;\n",
    "    let interest_rate_std_dev = interest_rate_std_dev_slider.value;\n",
    "    let years = years_slider.value;\n",
    "\n",
    "    let amounts = calculate_accrued_amount(starting_amount, monthly_investment, interest_rate_mean, interest_rate_std_dev, years);\n",
    "    let months = Array.from({length: amounts.length}, (_, i) => i);\n",
    "\n",
    "    source.data = {months: months, amounts: amounts};\n",
    "    source.change.emit();\n",
    "\"\"\")\n",
    "\n",
    "# Attach callback to widgets\n",
    "starting_amount_slider.js_on_change('value', callback)\n",
    "monthly_investment_slider.js_on_change('value', callback)\n",
    "years_slider.js_on_change('value', callback)\n",
    "interest_rate_mean_slider.js_on_change('value', callback)\n",
    "interest_rate_std_dev_slider.js_on_change('value', callback)\n",
    "\n",
    "# Layout\n",
    "layout = column(plot, starting_amount_slider, monthly_investment_slider, years_slider, interest_rate_mean_slider, interest_rate_std_dev_slider)\n",
    "\n",
    "# Show plot\n",
    "show(layout)"
   ]
  }
 ],
 "metadata": {
  "kernelspec": {
   "display_name": "sim",
   "language": "python",
   "name": "python3"
  },
  "language_info": {
   "codemirror_mode": {
    "name": "ipython",
    "version": 3
   },
   "file_extension": ".py",
   "mimetype": "text/x-python",
   "name": "python",
   "nbconvert_exporter": "python",
   "pygments_lexer": "ipython3",
   "version": "3.12.5"
  }
 },
 "nbformat": 4,
 "nbformat_minor": 2
}
